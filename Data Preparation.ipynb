{
 "cells": [
  {
   "cell_type": "markdown",
   "metadata": {},
   "source": [
    "## Gather Data "
   ]
  },
  {
   "cell_type": "code",
   "execution_count": 200,
   "metadata": {},
   "outputs": [],
   "source": [
    "import requests\n",
    "from bs4 import BeautifulSoup as bs\n",
    "import pandas as pd\n",
    "import matplotlib.pyplot as plt\n",
    "from selenium import webdriver\n",
    "from selenium.webdriver.common.by import By\n",
    "from selenium.webdriver.support.ui import WebDriverWait \n",
    "from selenium.webdriver.support import expected_conditions as EC "
   ]
  },
  {
   "cell_type": "markdown",
   "metadata": {},
   "source": [
    "**First, we would scrape the top 100 movies of all time from Rotten Tomatoes**"
   ]
  },
  {
   "cell_type": "code",
   "execution_count": 305,
   "metadata": {},
   "outputs": [],
   "source": [
    "URL = \"https://www.rottentomatoes.com/top/bestofrt/\" #URL where the table for the top 100 movies exist\n",
    "page = requests.get(URL) \n",
    "soup = bs(page.content, 'lxml') #Creating the soup\n",
    "movie_elems = soup.find_all(class_='table') #Finding the table in the soup\n",
    "# headers=[]\n",
    "# for header in movie_elems[0].findAll('th'): #Getting the headers of the table\n",
    "#     headers.append(header.text)\n"
   ]
  },
  {
   "cell_type": "code",
   "execution_count": 306,
   "metadata": {},
   "outputs": [],
   "source": [
    "table = movie_elems[0].findAll('tr') #Creating this variable to find the row observations for each movie"
   ]
  },
  {
   "cell_type": "code",
   "execution_count": 307,
   "metadata": {},
   "outputs": [],
   "source": [
    "ranks = []\n",
    "for rows in table[1:]: #Loop through the 'table' to get the rank\n",
    "    for rank in rows.find('td', class_ = 'bold'):\n",
    "        ranks.append(rank)"
   ]
  },
  {
   "cell_type": "code",
   "execution_count": 308,
   "metadata": {},
   "outputs": [],
   "source": [
    "movies = []\n",
    "for rows in table[1:]: #Loop through the 'table' to get the movie names\n",
    "    for movie in rows.find('a'):\n",
    "        movies.append(movie)"
   ]
  },
  {
   "cell_type": "code",
   "execution_count": 309,
   "metadata": {},
   "outputs": [],
   "source": [
    "ratings = []\n",
    "for rows in table[1:]: #Loop through the 'table' to get the critic rating\n",
    "    for rating in rows.find('span', class_='tMeterScore'):\n",
    "        ratings.append(rating)"
   ]
  },
  {
   "cell_type": "code",
   "execution_count": 310,
   "metadata": {},
   "outputs": [],
   "source": [
    "number_reviews = []\n",
    "for rows in table[1:]: #Loop through the 'table' to get the number of critic reviews\n",
    "    for review in rows.find('td', class_='right hidden-xs'):\n",
    "        number_reviews.append(review)"
   ]
  },
  {
   "cell_type": "code",
   "execution_count": 311,
   "metadata": {},
   "outputs": [],
   "source": [
    "movie_reviews = {'Rank': ranks,  'Movie_Title': movies, 'Critic_Rating': ratings, 'Number_of_Critic_Reviews': number_reviews}"
   ]
  },
  {
   "cell_type": "code",
   "execution_count": 312,
   "metadata": {},
   "outputs": [],
   "source": [
    "df_t = pd.DataFrame(movie_reviews)"
   ]
  },
  {
   "cell_type": "markdown",
   "metadata": {},
   "source": [
    "**We would now gather all the data like synopsis, critic rating, number of critic reviews, Audience rating and number of Audience rating for each of the movie in the top 100 list**"
   ]
  },
  {
   "cell_type": "markdown",
   "metadata": {},
   "source": [
    "For this exercise, we would be using Selenium. Selenium is a powerful tool that helps us in automating the web browser. In combination with beautiful soup it becomes one of the most powerful web scraping tools"
   ]
  },
  {
   "cell_type": "markdown",
   "metadata": {},
   "source": [
    "Please download the chromedriver from https://chromedriver.chromium.org/ and then set the proper executable path."
   ]
  },
  {
   "cell_type": "code",
   "execution_count": 228,
   "metadata": {},
   "outputs": [],
   "source": [
    "#Initiating a webdriver of Chrome\n",
    "driver = webdriver.Chrome(executable_path='/Users/akshaygupta/Downloads/chromedriver')\n",
    "driver.get(\"https://www.rottentomatoes.com/top/bestofrt/\")\n",
    "driver.implicitly_wait(10)\n",
    "df = pd.DataFrame() #Creating an empty dataframe to store information\n",
    "for i in range(1,101):\n",
    "    driver.find_element_by_xpath('//*[@id=\"top_movies_main\"]/div/table/tbody/tr['+str(i)+']/td[3]/a').click()\n",
    "    WebDriverWait(driver, 10).until(EC.presence_of_element_located((By.CLASS_NAME,'mop-ratings-wrap__percentage')))\n",
    "    html = driver.page_source\n",
    "    soup = bs(html, 'lxml')#Creating the soup\n",
    "    section = soup.find_all(class_='mop-ratings-wrap__info') #Setting the section variable to be a subpart of the page for ease in reading the code\n",
    "    synopsis = section[0].find('p').text #Scraping the synopsis\n",
    "    score_section = section[0].find_all('div') #Subset of section for ease in reading the code\n",
    "    critic_rat = score_section[0].find_all('span')[1].text #Scraping the critic rating\n",
    "    critic_num = score_section[1].find_all('small')[0].text #Scraping the number of critic reviews\n",
    "    audience_rat = score_section[2].find_all('span')[1].text #Scraping the audience rating\n",
    "    audience_num = score_section[3].find('strong').text #Scraping the number of audience reviews\n",
    "    temp = pd.DataFrame({\n",
    "        'Synopsis': synopsis.strip(),\n",
    "        'Critic_Rating': critic_rat.strip(),\n",
    "        'Number_of_Critic_Reviews': critic_num.strip(),\n",
    "        'Audience_Rating': audience_rat.strip(),\n",
    "        'Number_of_Audience_Reviews': audience_num.strip()[audience_num.find(':')+2:]\n",
    "    }, index=[i]) #Making a temporary pandas DataFrame to store information for each movie which resets after each loop\n",
    "    df = pd.concat([df, temp]) #Joining the temp to the empty DataFrame created outside this loop\n",
    "    driver.back()\n",
    "driver.quit()"
   ]
  },
  {
   "cell_type": "markdown",
   "metadata": {},
   "source": [
    "## Assess "
   ]
  },
  {
   "cell_type": "markdown",
   "metadata": {},
   "source": [
    "In this section, we would assess the data we have scraped from Rotten Tomatoes and note down any data inconsistencies we see"
   ]
  },
  {
   "cell_type": "markdown",
   "metadata": {},
   "source": [
    "**Assessing df_t**"
   ]
  },
  {
   "cell_type": "code",
   "execution_count": 209,
   "metadata": {
    "scrolled": true
   },
   "outputs": [
    {
     "name": "stdout",
     "output_type": "stream",
     "text": [
      "<class 'pandas.core.frame.DataFrame'>\n",
      "RangeIndex: 100 entries, 0 to 99\n",
      "Data columns (total 4 columns):\n",
      " #   Column                    Non-Null Count  Dtype \n",
      "---  ------                    --------------  ----- \n",
      " 0   Rank                      100 non-null    object\n",
      " 1   Movie_Title               100 non-null    object\n",
      " 2   Critic_Rating             100 non-null    object\n",
      " 3   Number_of_Critic_Reviews  100 non-null    object\n",
      "dtypes: object(4)\n",
      "memory usage: 3.2+ KB\n"
     ]
    }
   ],
   "source": [
    "df_t.info()"
   ]
  },
  {
   "cell_type": "code",
   "execution_count": 210,
   "metadata": {},
   "outputs": [
    {
     "data": {
      "text/html": [
       "<div>\n",
       "<style scoped>\n",
       "    .dataframe tbody tr th:only-of-type {\n",
       "        vertical-align: middle;\n",
       "    }\n",
       "\n",
       "    .dataframe tbody tr th {\n",
       "        vertical-align: top;\n",
       "    }\n",
       "\n",
       "    .dataframe thead th {\n",
       "        text-align: right;\n",
       "    }\n",
       "</style>\n",
       "<table border=\"1\" class=\"dataframe\">\n",
       "  <thead>\n",
       "    <tr style=\"text-align: right;\">\n",
       "      <th></th>\n",
       "      <th>Rank</th>\n",
       "      <th>Movie_Title</th>\n",
       "      <th>Critic_Rating</th>\n",
       "      <th>Number_of_Critic_Reviews</th>\n",
       "    </tr>\n",
       "  </thead>\n",
       "  <tbody>\n",
       "    <tr>\n",
       "      <th>0</th>\n",
       "      <td>1.</td>\n",
       "      <td>\\n            Black Panther (2018)</td>\n",
       "      <td>96%</td>\n",
       "      <td>512</td>\n",
       "    </tr>\n",
       "    <tr>\n",
       "      <th>1</th>\n",
       "      <td>2.</td>\n",
       "      <td>\\n            Avengers: Endgame (2019)</td>\n",
       "      <td>94%</td>\n",
       "      <td>528</td>\n",
       "    </tr>\n",
       "    <tr>\n",
       "      <th>2</th>\n",
       "      <td>3.</td>\n",
       "      <td>\\n            Us (2019)</td>\n",
       "      <td>93%</td>\n",
       "      <td>533</td>\n",
       "    </tr>\n",
       "    <tr>\n",
       "      <th>3</th>\n",
       "      <td>4.</td>\n",
       "      <td>\\n            Toy Story 4 (2019)</td>\n",
       "      <td>97%</td>\n",
       "      <td>443</td>\n",
       "    </tr>\n",
       "    <tr>\n",
       "      <th>4</th>\n",
       "      <td>5.</td>\n",
       "      <td>\\n            Lady Bird (2017)</td>\n",
       "      <td>99%</td>\n",
       "      <td>391</td>\n",
       "    </tr>\n",
       "  </tbody>\n",
       "</table>\n",
       "</div>"
      ],
      "text/plain": [
       "  Rank                             Movie_Title Critic_Rating  \\\n",
       "0   1.      \\n            Black Panther (2018)           96%   \n",
       "1   2.  \\n            Avengers: Endgame (2019)           94%   \n",
       "2   3.                 \\n            Us (2019)           93%   \n",
       "3   4.        \\n            Toy Story 4 (2019)           97%   \n",
       "4   5.          \\n            Lady Bird (2017)           99%   \n",
       "\n",
       "  Number_of_Critic_Reviews  \n",
       "0                      512  \n",
       "1                      528  \n",
       "2                      533  \n",
       "3                      443  \n",
       "4                      391  "
      ]
     },
     "execution_count": 210,
     "metadata": {},
     "output_type": "execute_result"
    }
   ],
   "source": [
    "df_t.head()"
   ]
  },
  {
   "cell_type": "code",
   "execution_count": 211,
   "metadata": {
    "scrolled": true
   },
   "outputs": [
    {
     "data": {
      "text/html": [
       "<div>\n",
       "<style scoped>\n",
       "    .dataframe tbody tr th:only-of-type {\n",
       "        vertical-align: middle;\n",
       "    }\n",
       "\n",
       "    .dataframe tbody tr th {\n",
       "        vertical-align: top;\n",
       "    }\n",
       "\n",
       "    .dataframe thead th {\n",
       "        text-align: right;\n",
       "    }\n",
       "</style>\n",
       "<table border=\"1\" class=\"dataframe\">\n",
       "  <thead>\n",
       "    <tr style=\"text-align: right;\">\n",
       "      <th></th>\n",
       "      <th>Rank</th>\n",
       "      <th>Movie_Title</th>\n",
       "      <th>Critic_Rating</th>\n",
       "      <th>Number_of_Critic_Reviews</th>\n",
       "    </tr>\n",
       "  </thead>\n",
       "  <tbody>\n",
       "    <tr>\n",
       "      <th>95</th>\n",
       "      <td>96.</td>\n",
       "      <td>\\n            The Lady Eve (1941)</td>\n",
       "      <td>100%</td>\n",
       "      <td>47</td>\n",
       "    </tr>\n",
       "    <tr>\n",
       "      <th>96</th>\n",
       "      <td>97.</td>\n",
       "      <td>\\n            The Godfather, Part II (1974)</td>\n",
       "      <td>98%</td>\n",
       "      <td>83</td>\n",
       "    </tr>\n",
       "    <tr>\n",
       "      <th>97</th>\n",
       "      <td>98.</td>\n",
       "      <td>\\n            Chinatown (1974)</td>\n",
       "      <td>99%</td>\n",
       "      <td>75</td>\n",
       "    </tr>\n",
       "    <tr>\n",
       "      <th>98</th>\n",
       "      <td>99.</td>\n",
       "      <td>\\n            Won't You Be My Neighbor? (2018)</td>\n",
       "      <td>97%</td>\n",
       "      <td>249</td>\n",
       "    </tr>\n",
       "    <tr>\n",
       "      <th>99</th>\n",
       "      <td>100.</td>\n",
       "      <td>\\n            The Babadook (2014)</td>\n",
       "      <td>98%</td>\n",
       "      <td>238</td>\n",
       "    </tr>\n",
       "  </tbody>\n",
       "</table>\n",
       "</div>"
      ],
      "text/plain": [
       "    Rank                                     Movie_Title Critic_Rating  \\\n",
       "95   96.               \\n            The Lady Eve (1941)          100%   \n",
       "96   97.     \\n            The Godfather, Part II (1974)           98%   \n",
       "97   98.                  \\n            Chinatown (1974)           99%   \n",
       "98   99.  \\n            Won't You Be My Neighbor? (2018)           97%   \n",
       "99  100.               \\n            The Babadook (2014)           98%   \n",
       "\n",
       "   Number_of_Critic_Reviews  \n",
       "95                       47  \n",
       "96                       83  \n",
       "97                       75  \n",
       "98                      249  \n",
       "99                      238  "
      ]
     },
     "execution_count": 211,
     "metadata": {},
     "output_type": "execute_result"
    }
   ],
   "source": [
    "df_t.tail()"
   ]
  },
  {
   "cell_type": "markdown",
   "metadata": {},
   "source": [
    "- Data Types for all the column is object\n",
    "- \\n exists in all the rows of the Title column\n",
    "- % sign exists at the end of the rating\n",
    "- . exists at the end of the ranking\n",
    "- Year of the movie is within the title"
   ]
  },
  {
   "cell_type": "markdown",
   "metadata": {},
   "source": [
    "**Assessing df**"
   ]
  },
  {
   "cell_type": "code",
   "execution_count": 176,
   "metadata": {},
   "outputs": [
    {
     "name": "stdout",
     "output_type": "stream",
     "text": [
      "<class 'pandas.core.frame.DataFrame'>\n",
      "Int64Index: 100 entries, 1 to 100\n",
      "Data columns (total 5 columns):\n",
      " #   Column                      Non-Null Count  Dtype \n",
      "---  ------                      --------------  ----- \n",
      " 0   Synopsis                    100 non-null    object\n",
      " 1   Critic Rating               100 non-null    object\n",
      " 2   Number of Critic Reviews    100 non-null    object\n",
      " 3   Audience Rating             100 non-null    object\n",
      " 4   Number of Audience Reviews  100 non-null    object\n",
      "dtypes: object(5)\n",
      "memory usage: 4.7+ KB\n"
     ]
    }
   ],
   "source": [
    "df.info()"
   ]
  },
  {
   "cell_type": "code",
   "execution_count": 177,
   "metadata": {},
   "outputs": [
    {
     "data": {
      "text/html": [
       "<div>\n",
       "<style scoped>\n",
       "    .dataframe tbody tr th:only-of-type {\n",
       "        vertical-align: middle;\n",
       "    }\n",
       "\n",
       "    .dataframe tbody tr th {\n",
       "        vertical-align: top;\n",
       "    }\n",
       "\n",
       "    .dataframe thead th {\n",
       "        text-align: right;\n",
       "    }\n",
       "</style>\n",
       "<table border=\"1\" class=\"dataframe\">\n",
       "  <thead>\n",
       "    <tr style=\"text-align: right;\">\n",
       "      <th></th>\n",
       "      <th>Synopsis</th>\n",
       "      <th>Critic Rating</th>\n",
       "      <th>Number of Critic Reviews</th>\n",
       "      <th>Audience Rating</th>\n",
       "      <th>Number of Audience Reviews</th>\n",
       "    </tr>\n",
       "    <tr>\n",
       "      <th>Rank</th>\n",
       "      <th></th>\n",
       "      <th></th>\n",
       "      <th></th>\n",
       "      <th></th>\n",
       "      <th></th>\n",
       "    </tr>\n",
       "  </thead>\n",
       "  <tbody>\n",
       "    <tr>\n",
       "      <th>1</th>\n",
       "      <td>Black Panther elevates superhero cinema to thr...</td>\n",
       "      <td>96%</td>\n",
       "      <td>512</td>\n",
       "      <td>79%</td>\n",
       "      <td>88,211</td>\n",
       "    </tr>\n",
       "    <tr>\n",
       "      <th>2</th>\n",
       "      <td>Exciting, entertaining, and emotionally impact...</td>\n",
       "      <td>94%</td>\n",
       "      <td>528</td>\n",
       "      <td>90%</td>\n",
       "      <td>70,313</td>\n",
       "    </tr>\n",
       "    <tr>\n",
       "      <th>3</th>\n",
       "      <td>With Jordan Peele's second inventive, ambitiou...</td>\n",
       "      <td>93%</td>\n",
       "      <td>533</td>\n",
       "      <td>59%</td>\n",
       "      <td>13,108</td>\n",
       "    </tr>\n",
       "    <tr>\n",
       "      <th>4</th>\n",
       "      <td>Heartwarming, funny, and beautifully animated,...</td>\n",
       "      <td>97%</td>\n",
       "      <td>443</td>\n",
       "      <td>94%</td>\n",
       "      <td>53,146</td>\n",
       "    </tr>\n",
       "    <tr>\n",
       "      <th>5</th>\n",
       "      <td>Lady Bird delivers fresh insights about the tu...</td>\n",
       "      <td>99%</td>\n",
       "      <td>391</td>\n",
       "      <td>79%</td>\n",
       "      <td>22,595</td>\n",
       "    </tr>\n",
       "  </tbody>\n",
       "</table>\n",
       "</div>"
      ],
      "text/plain": [
       "                                               Synopsis Critic Rating  \\\n",
       "Rank                                                                    \n",
       "1     Black Panther elevates superhero cinema to thr...           96%   \n",
       "2     Exciting, entertaining, and emotionally impact...           94%   \n",
       "3     With Jordan Peele's second inventive, ambitiou...           93%   \n",
       "4     Heartwarming, funny, and beautifully animated,...           97%   \n",
       "5     Lady Bird delivers fresh insights about the tu...           99%   \n",
       "\n",
       "     Number of Critic Reviews Audience Rating Number of Audience Reviews  \n",
       "Rank                                                                      \n",
       "1                         512             79%                     88,211  \n",
       "2                         528             90%                     70,313  \n",
       "3                         533             59%                     13,108  \n",
       "4                         443             94%                     53,146  \n",
       "5                         391             79%                     22,595  "
      ]
     },
     "execution_count": 177,
     "metadata": {},
     "output_type": "execute_result"
    }
   ],
   "source": [
    "df.head()"
   ]
  },
  {
   "cell_type": "code",
   "execution_count": 178,
   "metadata": {},
   "outputs": [
    {
     "data": {
      "text/html": [
       "<div>\n",
       "<style scoped>\n",
       "    .dataframe tbody tr th:only-of-type {\n",
       "        vertical-align: middle;\n",
       "    }\n",
       "\n",
       "    .dataframe tbody tr th {\n",
       "        vertical-align: top;\n",
       "    }\n",
       "\n",
       "    .dataframe thead th {\n",
       "        text-align: right;\n",
       "    }\n",
       "</style>\n",
       "<table border=\"1\" class=\"dataframe\">\n",
       "  <thead>\n",
       "    <tr style=\"text-align: right;\">\n",
       "      <th></th>\n",
       "      <th>Synopsis</th>\n",
       "      <th>Critic Rating</th>\n",
       "      <th>Number of Critic Reviews</th>\n",
       "      <th>Audience Rating</th>\n",
       "      <th>Number of Audience Reviews</th>\n",
       "    </tr>\n",
       "    <tr>\n",
       "      <th>Rank</th>\n",
       "      <th></th>\n",
       "      <th></th>\n",
       "      <th></th>\n",
       "      <th></th>\n",
       "      <th></th>\n",
       "    </tr>\n",
       "  </thead>\n",
       "  <tbody>\n",
       "    <tr>\n",
       "      <th>96</th>\n",
       "      <td>A career highlight for Preston Sturges, The La...</td>\n",
       "      <td>100%</td>\n",
       "      <td>47</td>\n",
       "      <td>87%</td>\n",
       "      <td>7,550</td>\n",
       "    </tr>\n",
       "    <tr>\n",
       "      <th>97</th>\n",
       "      <td>Drawing on strong performances by Al Pacino an...</td>\n",
       "      <td>98%</td>\n",
       "      <td>83</td>\n",
       "      <td>97%</td>\n",
       "      <td>411,450</td>\n",
       "    </tr>\n",
       "    <tr>\n",
       "      <th>98</th>\n",
       "      <td>As bruised and cynical as the decade that prod...</td>\n",
       "      <td>99%</td>\n",
       "      <td>75</td>\n",
       "      <td>93%</td>\n",
       "      <td>77,907</td>\n",
       "    </tr>\n",
       "    <tr>\n",
       "      <th>99</th>\n",
       "      <td>Won't You Be My Neighbor? takes a fittingly pa...</td>\n",
       "      <td>97%</td>\n",
       "      <td>249</td>\n",
       "      <td>94%</td>\n",
       "      <td>4,382</td>\n",
       "    </tr>\n",
       "    <tr>\n",
       "      <th>100</th>\n",
       "      <td>The Babadook relies on real horror rather than...</td>\n",
       "      <td>98%</td>\n",
       "      <td>238</td>\n",
       "      <td>72%</td>\n",
       "      <td>39,109</td>\n",
       "    </tr>\n",
       "  </tbody>\n",
       "</table>\n",
       "</div>"
      ],
      "text/plain": [
       "                                               Synopsis Critic Rating  \\\n",
       "Rank                                                                    \n",
       "96    A career highlight for Preston Sturges, The La...          100%   \n",
       "97    Drawing on strong performances by Al Pacino an...           98%   \n",
       "98    As bruised and cynical as the decade that prod...           99%   \n",
       "99    Won't You Be My Neighbor? takes a fittingly pa...           97%   \n",
       "100   The Babadook relies on real horror rather than...           98%   \n",
       "\n",
       "     Number of Critic Reviews Audience Rating Number of Audience Reviews  \n",
       "Rank                                                                      \n",
       "96                         47             87%                      7,550  \n",
       "97                         83             97%                    411,450  \n",
       "98                         75             93%                     77,907  \n",
       "99                        249             94%                      4,382  \n",
       "100                       238             72%                     39,109  "
      ]
     },
     "execution_count": 178,
     "metadata": {},
     "output_type": "execute_result"
    }
   ],
   "source": [
    "df.tail()"
   ]
  },
  {
   "cell_type": "markdown",
   "metadata": {},
   "source": [
    "- All the columns are of object type\n",
    "- % sign in column Critic Rating and Audience Rating\n",
    "- , in Number of Audience Reviews"
   ]
  },
  {
   "cell_type": "markdown",
   "metadata": {},
   "source": [
    "## Cleaning "
   ]
  },
  {
   "cell_type": "markdown",
   "metadata": {},
   "source": [
    "#### Top 100 movies table (df_t)"
   ]
  },
  {
   "cell_type": "markdown",
   "metadata": {},
   "source": [
    "**Cleaning df_t**"
   ]
  },
  {
   "cell_type": "markdown",
   "metadata": {},
   "source": [
    "- Remove % sign at the end of the critic rating\n",
    "- Remove . from ranking\n",
    "- Convert Rank, Critic Rating and No. of Critic Reviews to int"
   ]
  },
  {
   "cell_type": "code",
   "execution_count": 332,
   "metadata": {},
   "outputs": [],
   "source": [
    "df_t_copy = df_t.copy()"
   ]
  },
  {
   "cell_type": "code",
   "execution_count": 333,
   "metadata": {},
   "outputs": [],
   "source": [
    "df_t_copy['Critic_Rating'] = df_t_copy['Critic_Rating'].apply(lambda x: x[:-1])"
   ]
  },
  {
   "cell_type": "code",
   "execution_count": 334,
   "metadata": {},
   "outputs": [],
   "source": [
    "df_t_copy['Rank'] = df_t_copy['Rank'].apply(lambda x: x[:-1])"
   ]
  },
  {
   "cell_type": "code",
   "execution_count": 335,
   "metadata": {},
   "outputs": [],
   "source": [
    "df_t_copy['Critic_Rating'] = df_t_copy['Critic_Rating'].apply(lambda x: int(x))\n",
    "df_t_copy['Rank'] = df_t_copy['Rank'].apply(lambda x: int(x))\n",
    "df_t_copy['Number_of_Critic_Reviews'] = df_t_copy['Number_of_Critic_Reviews'].apply(lambda x: int(x))"
   ]
  },
  {
   "cell_type": "markdown",
   "metadata": {},
   "source": [
    "- Remove \\n from movie title\n",
    "- Convert movie title to string"
   ]
  },
  {
   "cell_type": "code",
   "execution_count": 336,
   "metadata": {},
   "outputs": [],
   "source": [
    "df_t_copy['Movie_Title'] = df_t_copy['Movie_Title'].apply(lambda x: str(x.strip()))"
   ]
  },
  {
   "cell_type": "markdown",
   "metadata": {},
   "source": [
    "- Separate the year of the movie from the Movie Title\n",
    "- Convert Year of Release to int type"
   ]
  },
  {
   "cell_type": "code",
   "execution_count": 337,
   "metadata": {},
   "outputs": [],
   "source": [
    "df_t_copy['Year_of_Release'] = df_t_copy['Movie_Title'].apply(lambda x: int(x[-5:-1]))\n",
    "df_t_copy['Movie_Title'] = df_t_copy['Movie_Title'].apply(lambda x: x[:-6])"
   ]
  },
  {
   "cell_type": "markdown",
   "metadata": {},
   "source": [
    "Converting Year of Release to int type makes sense here since it is only the year. Had the release date been with day and month, we would have converted it to datetime object for ease of analysis."
   ]
  },
  {
   "cell_type": "markdown",
   "metadata": {},
   "source": [
    "**Testing df_t**"
   ]
  },
  {
   "cell_type": "code",
   "execution_count": 338,
   "metadata": {},
   "outputs": [
    {
     "name": "stdout",
     "output_type": "stream",
     "text": [
      "<class 'pandas.core.frame.DataFrame'>\n",
      "RangeIndex: 100 entries, 0 to 99\n",
      "Data columns (total 5 columns):\n",
      " #   Column                    Non-Null Count  Dtype \n",
      "---  ------                    --------------  ----- \n",
      " 0   Rank                      100 non-null    int64 \n",
      " 1   Movie_Title               100 non-null    object\n",
      " 2   Critic_Rating             100 non-null    int64 \n",
      " 3   Number_of_Critic_Reviews  100 non-null    int64 \n",
      " 4   Year_of_Release           100 non-null    int64 \n",
      "dtypes: int64(4), object(1)\n",
      "memory usage: 4.0+ KB\n"
     ]
    }
   ],
   "source": [
    "df_t_copy.info()"
   ]
  },
  {
   "cell_type": "code",
   "execution_count": 339,
   "metadata": {},
   "outputs": [
    {
     "data": {
      "text/html": [
       "<div>\n",
       "<style scoped>\n",
       "    .dataframe tbody tr th:only-of-type {\n",
       "        vertical-align: middle;\n",
       "    }\n",
       "\n",
       "    .dataframe tbody tr th {\n",
       "        vertical-align: top;\n",
       "    }\n",
       "\n",
       "    .dataframe thead th {\n",
       "        text-align: right;\n",
       "    }\n",
       "</style>\n",
       "<table border=\"1\" class=\"dataframe\">\n",
       "  <thead>\n",
       "    <tr style=\"text-align: right;\">\n",
       "      <th></th>\n",
       "      <th>Rank</th>\n",
       "      <th>Movie_Title</th>\n",
       "      <th>Critic_Rating</th>\n",
       "      <th>Number_of_Critic_Reviews</th>\n",
       "      <th>Year_of_Release</th>\n",
       "    </tr>\n",
       "  </thead>\n",
       "  <tbody>\n",
       "    <tr>\n",
       "      <th>0</th>\n",
       "      <td>1</td>\n",
       "      <td>Black Panther</td>\n",
       "      <td>96</td>\n",
       "      <td>512</td>\n",
       "      <td>2018</td>\n",
       "    </tr>\n",
       "    <tr>\n",
       "      <th>1</th>\n",
       "      <td>2</td>\n",
       "      <td>Avengers: Endgame</td>\n",
       "      <td>94</td>\n",
       "      <td>528</td>\n",
       "      <td>2019</td>\n",
       "    </tr>\n",
       "    <tr>\n",
       "      <th>2</th>\n",
       "      <td>3</td>\n",
       "      <td>Us</td>\n",
       "      <td>93</td>\n",
       "      <td>533</td>\n",
       "      <td>2019</td>\n",
       "    </tr>\n",
       "    <tr>\n",
       "      <th>3</th>\n",
       "      <td>4</td>\n",
       "      <td>Toy Story 4</td>\n",
       "      <td>97</td>\n",
       "      <td>443</td>\n",
       "      <td>2019</td>\n",
       "    </tr>\n",
       "    <tr>\n",
       "      <th>4</th>\n",
       "      <td>5</td>\n",
       "      <td>Lady Bird</td>\n",
       "      <td>99</td>\n",
       "      <td>391</td>\n",
       "      <td>2017</td>\n",
       "    </tr>\n",
       "  </tbody>\n",
       "</table>\n",
       "</div>"
      ],
      "text/plain": [
       "   Rank         Movie_Title  Critic_Rating  Number_of_Critic_Reviews  \\\n",
       "0     1      Black Panther              96                       512   \n",
       "1     2  Avengers: Endgame              94                       528   \n",
       "2     3                 Us              93                       533   \n",
       "3     4        Toy Story 4              97                       443   \n",
       "4     5          Lady Bird              99                       391   \n",
       "\n",
       "   Year_of_Release  \n",
       "0             2018  \n",
       "1             2019  \n",
       "2             2019  \n",
       "3             2019  \n",
       "4             2017  "
      ]
     },
     "execution_count": 339,
     "metadata": {},
     "output_type": "execute_result"
    }
   ],
   "source": [
    "df_t_copy.head()"
   ]
  },
  {
   "cell_type": "code",
   "execution_count": 340,
   "metadata": {},
   "outputs": [
    {
     "data": {
      "text/html": [
       "<div>\n",
       "<style scoped>\n",
       "    .dataframe tbody tr th:only-of-type {\n",
       "        vertical-align: middle;\n",
       "    }\n",
       "\n",
       "    .dataframe tbody tr th {\n",
       "        vertical-align: top;\n",
       "    }\n",
       "\n",
       "    .dataframe thead th {\n",
       "        text-align: right;\n",
       "    }\n",
       "</style>\n",
       "<table border=\"1\" class=\"dataframe\">\n",
       "  <thead>\n",
       "    <tr style=\"text-align: right;\">\n",
       "      <th></th>\n",
       "      <th>Rank</th>\n",
       "      <th>Movie_Title</th>\n",
       "      <th>Critic_Rating</th>\n",
       "      <th>Number_of_Critic_Reviews</th>\n",
       "      <th>Year_of_Release</th>\n",
       "    </tr>\n",
       "  </thead>\n",
       "  <tbody>\n",
       "    <tr>\n",
       "      <th>95</th>\n",
       "      <td>96</td>\n",
       "      <td>The Lady Eve</td>\n",
       "      <td>100</td>\n",
       "      <td>47</td>\n",
       "      <td>1941</td>\n",
       "    </tr>\n",
       "    <tr>\n",
       "      <th>96</th>\n",
       "      <td>97</td>\n",
       "      <td>The Godfather, Part II</td>\n",
       "      <td>98</td>\n",
       "      <td>83</td>\n",
       "      <td>1974</td>\n",
       "    </tr>\n",
       "    <tr>\n",
       "      <th>97</th>\n",
       "      <td>98</td>\n",
       "      <td>Chinatown</td>\n",
       "      <td>99</td>\n",
       "      <td>75</td>\n",
       "      <td>1974</td>\n",
       "    </tr>\n",
       "    <tr>\n",
       "      <th>98</th>\n",
       "      <td>99</td>\n",
       "      <td>Won't You Be My Neighbor?</td>\n",
       "      <td>97</td>\n",
       "      <td>249</td>\n",
       "      <td>2018</td>\n",
       "    </tr>\n",
       "    <tr>\n",
       "      <th>99</th>\n",
       "      <td>100</td>\n",
       "      <td>The Babadook</td>\n",
       "      <td>98</td>\n",
       "      <td>238</td>\n",
       "      <td>2014</td>\n",
       "    </tr>\n",
       "  </tbody>\n",
       "</table>\n",
       "</div>"
      ],
      "text/plain": [
       "    Rank                 Movie_Title  Critic_Rating  Number_of_Critic_Reviews  \\\n",
       "95    96               The Lady Eve             100                        47   \n",
       "96    97     The Godfather, Part II              98                        83   \n",
       "97    98                  Chinatown              99                        75   \n",
       "98    99  Won't You Be My Neighbor?              97                       249   \n",
       "99   100               The Babadook              98                       238   \n",
       "\n",
       "    Year_of_Release  \n",
       "95             1941  \n",
       "96             1974  \n",
       "97             1974  \n",
       "98             2018  \n",
       "99             2014  "
      ]
     },
     "execution_count": 340,
     "metadata": {},
     "output_type": "execute_result"
    }
   ],
   "source": [
    "df_t_copy.tail()"
   ]
  },
  {
   "cell_type": "code",
   "execution_count": 342,
   "metadata": {},
   "outputs": [
    {
     "name": "stdout",
     "output_type": "stream",
     "text": [
      "50.5 96.61 256.71 1988.68\n"
     ]
    }
   ],
   "source": [
    "print(df_t_copy['Rank'].mean(), df_t_copy['Critic_Rating'].mean(), df_t_copy['Number_of_Critic_Reviews'].mean(), df_t_copy['Year_of_Release'].mean())"
   ]
  },
  {
   "cell_type": "markdown",
   "metadata": {},
   "source": [
    "#### Top 100 movies (df)"
   ]
  },
  {
   "cell_type": "markdown",
   "metadata": {},
   "source": [
    "**Cleaning df**"
   ]
  },
  {
   "cell_type": "markdown",
   "metadata": {},
   "source": [
    "Since we are going to join this table with the df_t table, we do not need the Critic Rating and the Number of Critic Reviews as they are already recorded in df_t"
   ]
  },
  {
   "cell_type": "markdown",
   "metadata": {},
   "source": [
    "Creating a copy of df so that we don't mess with the original data"
   ]
  },
  {
   "cell_type": "code",
   "execution_count": 343,
   "metadata": {},
   "outputs": [],
   "source": [
    "df_copy = df.copy()"
   ]
  },
  {
   "cell_type": "code",
   "execution_count": 344,
   "metadata": {},
   "outputs": [],
   "source": [
    "df_copy = df.drop(['Critic_Rating', 'Number_of_Critic_Reviews'], axis=1)"
   ]
  },
  {
   "cell_type": "code",
   "execution_count": 345,
   "metadata": {},
   "outputs": [],
   "source": [
    "df_copy.reset_index(inplace=True)"
   ]
  },
  {
   "cell_type": "markdown",
   "metadata": {},
   "source": [
    "- Removing all the % sign from the Audience Rating column\n",
    "- Remove , from the Number of Audience Reviews column\n",
    "- Convert Rank, Audience Rating and Number of Audience Reviews to int type"
   ]
  },
  {
   "cell_type": "code",
   "execution_count": 346,
   "metadata": {},
   "outputs": [
    {
     "data": {
      "text/html": [
       "<div>\n",
       "<style scoped>\n",
       "    .dataframe tbody tr th:only-of-type {\n",
       "        vertical-align: middle;\n",
       "    }\n",
       "\n",
       "    .dataframe tbody tr th {\n",
       "        vertical-align: top;\n",
       "    }\n",
       "\n",
       "    .dataframe thead th {\n",
       "        text-align: right;\n",
       "    }\n",
       "</style>\n",
       "<table border=\"1\" class=\"dataframe\">\n",
       "  <thead>\n",
       "    <tr style=\"text-align: right;\">\n",
       "      <th></th>\n",
       "      <th>index</th>\n",
       "      <th>Synopsis</th>\n",
       "      <th>Audience_Rating</th>\n",
       "      <th>Number_of_Audience_Reviews</th>\n",
       "    </tr>\n",
       "  </thead>\n",
       "  <tbody>\n",
       "    <tr>\n",
       "      <th>0</th>\n",
       "      <td>1</td>\n",
       "      <td>Black Panther elevates superhero cinema to thr...</td>\n",
       "      <td>79%</td>\n",
       "      <td>88,211</td>\n",
       "    </tr>\n",
       "    <tr>\n",
       "      <th>1</th>\n",
       "      <td>2</td>\n",
       "      <td>Exciting, entertaining, and emotionally impact...</td>\n",
       "      <td>90%</td>\n",
       "      <td>70,313</td>\n",
       "    </tr>\n",
       "    <tr>\n",
       "      <th>2</th>\n",
       "      <td>3</td>\n",
       "      <td>With Jordan Peele's second inventive, ambitiou...</td>\n",
       "      <td>59%</td>\n",
       "      <td>13,108</td>\n",
       "    </tr>\n",
       "    <tr>\n",
       "      <th>3</th>\n",
       "      <td>4</td>\n",
       "      <td>Heartwarming, funny, and beautifully animated,...</td>\n",
       "      <td>94%</td>\n",
       "      <td>53,146</td>\n",
       "    </tr>\n",
       "    <tr>\n",
       "      <th>4</th>\n",
       "      <td>5</td>\n",
       "      <td>Lady Bird delivers fresh insights about the tu...</td>\n",
       "      <td>79%</td>\n",
       "      <td>22,595</td>\n",
       "    </tr>\n",
       "    <tr>\n",
       "      <th>...</th>\n",
       "      <td>...</td>\n",
       "      <td>...</td>\n",
       "      <td>...</td>\n",
       "      <td>...</td>\n",
       "    </tr>\n",
       "    <tr>\n",
       "      <th>95</th>\n",
       "      <td>96</td>\n",
       "      <td>A career highlight for Preston Sturges, The La...</td>\n",
       "      <td>87%</td>\n",
       "      <td>7,550</td>\n",
       "    </tr>\n",
       "    <tr>\n",
       "      <th>96</th>\n",
       "      <td>97</td>\n",
       "      <td>Drawing on strong performances by Al Pacino an...</td>\n",
       "      <td>97%</td>\n",
       "      <td>411,450</td>\n",
       "    </tr>\n",
       "    <tr>\n",
       "      <th>97</th>\n",
       "      <td>98</td>\n",
       "      <td>As bruised and cynical as the decade that prod...</td>\n",
       "      <td>93%</td>\n",
       "      <td>77,907</td>\n",
       "    </tr>\n",
       "    <tr>\n",
       "      <th>98</th>\n",
       "      <td>99</td>\n",
       "      <td>Won't You Be My Neighbor? takes a fittingly pa...</td>\n",
       "      <td>94%</td>\n",
       "      <td>4,382</td>\n",
       "    </tr>\n",
       "    <tr>\n",
       "      <th>99</th>\n",
       "      <td>100</td>\n",
       "      <td>The Babadook relies on real horror rather than...</td>\n",
       "      <td>72%</td>\n",
       "      <td>39,109</td>\n",
       "    </tr>\n",
       "  </tbody>\n",
       "</table>\n",
       "<p>100 rows × 4 columns</p>\n",
       "</div>"
      ],
      "text/plain": [
       "    index                                           Synopsis Audience_Rating  \\\n",
       "0       1  Black Panther elevates superhero cinema to thr...             79%   \n",
       "1       2  Exciting, entertaining, and emotionally impact...             90%   \n",
       "2       3  With Jordan Peele's second inventive, ambitiou...             59%   \n",
       "3       4  Heartwarming, funny, and beautifully animated,...             94%   \n",
       "4       5  Lady Bird delivers fresh insights about the tu...             79%   \n",
       "..    ...                                                ...             ...   \n",
       "95     96  A career highlight for Preston Sturges, The La...             87%   \n",
       "96     97  Drawing on strong performances by Al Pacino an...             97%   \n",
       "97     98  As bruised and cynical as the decade that prod...             93%   \n",
       "98     99  Won't You Be My Neighbor? takes a fittingly pa...             94%   \n",
       "99    100  The Babadook relies on real horror rather than...             72%   \n",
       "\n",
       "   Number_of_Audience_Reviews  \n",
       "0                      88,211  \n",
       "1                      70,313  \n",
       "2                      13,108  \n",
       "3                      53,146  \n",
       "4                      22,595  \n",
       "..                        ...  \n",
       "95                      7,550  \n",
       "96                    411,450  \n",
       "97                     77,907  \n",
       "98                      4,382  \n",
       "99                     39,109  \n",
       "\n",
       "[100 rows x 4 columns]"
      ]
     },
     "execution_count": 346,
     "metadata": {},
     "output_type": "execute_result"
    }
   ],
   "source": [
    "df_copy"
   ]
  },
  {
   "cell_type": "code",
   "execution_count": 347,
   "metadata": {},
   "outputs": [],
   "source": [
    "df_copy['Audience_Rating'] = df_copy['Audience_Rating'].apply(lambda x: int(x[:-1]))\n",
    "df_copy['Number_of_Audience_Reviews'] = df_copy['Number_of_Audience_Reviews'].apply(lambda x: int(x.replace(',','')))"
   ]
  },
  {
   "cell_type": "markdown",
   "metadata": {},
   "source": [
    "- Convert index to Rank\n",
    "- Convert Rank to int type"
   ]
  },
  {
   "cell_type": "code",
   "execution_count": 348,
   "metadata": {},
   "outputs": [],
   "source": [
    "df_copy.rename({'index':'Rank'}, axis=1, inplace=True)"
   ]
  },
  {
   "cell_type": "code",
   "execution_count": 349,
   "metadata": {},
   "outputs": [],
   "source": [
    "df_copy['Rank'] = df_copy['Rank'].apply(lambda x: int(x))"
   ]
  },
  {
   "cell_type": "markdown",
   "metadata": {},
   "source": [
    "- Convert Synopsis to str"
   ]
  },
  {
   "cell_type": "code",
   "execution_count": 350,
   "metadata": {},
   "outputs": [],
   "source": [
    "df_copy['Synopsis'] = df_copy['Synopsis'].apply(lambda x: str(x))"
   ]
  },
  {
   "cell_type": "markdown",
   "metadata": {},
   "source": [
    "**Testing df_copy**"
   ]
  },
  {
   "cell_type": "code",
   "execution_count": 351,
   "metadata": {},
   "outputs": [
    {
     "name": "stdout",
     "output_type": "stream",
     "text": [
      "<class 'pandas.core.frame.DataFrame'>\n",
      "RangeIndex: 100 entries, 0 to 99\n",
      "Data columns (total 4 columns):\n",
      " #   Column                      Non-Null Count  Dtype \n",
      "---  ------                      --------------  ----- \n",
      " 0   Rank                        100 non-null    int64 \n",
      " 1   Synopsis                    100 non-null    object\n",
      " 2   Audience_Rating             100 non-null    int64 \n",
      " 3   Number_of_Audience_Reviews  100 non-null    int64 \n",
      "dtypes: int64(3), object(1)\n",
      "memory usage: 3.2+ KB\n"
     ]
    }
   ],
   "source": [
    "df_copy.info()"
   ]
  },
  {
   "cell_type": "code",
   "execution_count": 352,
   "metadata": {},
   "outputs": [
    {
     "data": {
      "text/html": [
       "<div>\n",
       "<style scoped>\n",
       "    .dataframe tbody tr th:only-of-type {\n",
       "        vertical-align: middle;\n",
       "    }\n",
       "\n",
       "    .dataframe tbody tr th {\n",
       "        vertical-align: top;\n",
       "    }\n",
       "\n",
       "    .dataframe thead th {\n",
       "        text-align: right;\n",
       "    }\n",
       "</style>\n",
       "<table border=\"1\" class=\"dataframe\">\n",
       "  <thead>\n",
       "    <tr style=\"text-align: right;\">\n",
       "      <th></th>\n",
       "      <th>Rank</th>\n",
       "      <th>Synopsis</th>\n",
       "      <th>Audience_Rating</th>\n",
       "      <th>Number_of_Audience_Reviews</th>\n",
       "    </tr>\n",
       "  </thead>\n",
       "  <tbody>\n",
       "    <tr>\n",
       "      <th>0</th>\n",
       "      <td>1</td>\n",
       "      <td>Black Panther elevates superhero cinema to thr...</td>\n",
       "      <td>79</td>\n",
       "      <td>88211</td>\n",
       "    </tr>\n",
       "    <tr>\n",
       "      <th>1</th>\n",
       "      <td>2</td>\n",
       "      <td>Exciting, entertaining, and emotionally impact...</td>\n",
       "      <td>90</td>\n",
       "      <td>70313</td>\n",
       "    </tr>\n",
       "    <tr>\n",
       "      <th>2</th>\n",
       "      <td>3</td>\n",
       "      <td>With Jordan Peele's second inventive, ambitiou...</td>\n",
       "      <td>59</td>\n",
       "      <td>13108</td>\n",
       "    </tr>\n",
       "    <tr>\n",
       "      <th>3</th>\n",
       "      <td>4</td>\n",
       "      <td>Heartwarming, funny, and beautifully animated,...</td>\n",
       "      <td>94</td>\n",
       "      <td>53146</td>\n",
       "    </tr>\n",
       "    <tr>\n",
       "      <th>4</th>\n",
       "      <td>5</td>\n",
       "      <td>Lady Bird delivers fresh insights about the tu...</td>\n",
       "      <td>79</td>\n",
       "      <td>22595</td>\n",
       "    </tr>\n",
       "  </tbody>\n",
       "</table>\n",
       "</div>"
      ],
      "text/plain": [
       "   Rank                                           Synopsis  Audience_Rating  \\\n",
       "0     1  Black Panther elevates superhero cinema to thr...               79   \n",
       "1     2  Exciting, entertaining, and emotionally impact...               90   \n",
       "2     3  With Jordan Peele's second inventive, ambitiou...               59   \n",
       "3     4  Heartwarming, funny, and beautifully animated,...               94   \n",
       "4     5  Lady Bird delivers fresh insights about the tu...               79   \n",
       "\n",
       "   Number_of_Audience_Reviews  \n",
       "0                       88211  \n",
       "1                       70313  \n",
       "2                       13108  \n",
       "3                       53146  \n",
       "4                       22595  "
      ]
     },
     "execution_count": 352,
     "metadata": {},
     "output_type": "execute_result"
    }
   ],
   "source": [
    "df_copy.head()"
   ]
  },
  {
   "cell_type": "code",
   "execution_count": 353,
   "metadata": {},
   "outputs": [
    {
     "data": {
      "text/html": [
       "<div>\n",
       "<style scoped>\n",
       "    .dataframe tbody tr th:only-of-type {\n",
       "        vertical-align: middle;\n",
       "    }\n",
       "\n",
       "    .dataframe tbody tr th {\n",
       "        vertical-align: top;\n",
       "    }\n",
       "\n",
       "    .dataframe thead th {\n",
       "        text-align: right;\n",
       "    }\n",
       "</style>\n",
       "<table border=\"1\" class=\"dataframe\">\n",
       "  <thead>\n",
       "    <tr style=\"text-align: right;\">\n",
       "      <th></th>\n",
       "      <th>Rank</th>\n",
       "      <th>Synopsis</th>\n",
       "      <th>Audience_Rating</th>\n",
       "      <th>Number_of_Audience_Reviews</th>\n",
       "    </tr>\n",
       "  </thead>\n",
       "  <tbody>\n",
       "    <tr>\n",
       "      <th>95</th>\n",
       "      <td>96</td>\n",
       "      <td>A career highlight for Preston Sturges, The La...</td>\n",
       "      <td>87</td>\n",
       "      <td>7550</td>\n",
       "    </tr>\n",
       "    <tr>\n",
       "      <th>96</th>\n",
       "      <td>97</td>\n",
       "      <td>Drawing on strong performances by Al Pacino an...</td>\n",
       "      <td>97</td>\n",
       "      <td>411450</td>\n",
       "    </tr>\n",
       "    <tr>\n",
       "      <th>97</th>\n",
       "      <td>98</td>\n",
       "      <td>As bruised and cynical as the decade that prod...</td>\n",
       "      <td>93</td>\n",
       "      <td>77907</td>\n",
       "    </tr>\n",
       "    <tr>\n",
       "      <th>98</th>\n",
       "      <td>99</td>\n",
       "      <td>Won't You Be My Neighbor? takes a fittingly pa...</td>\n",
       "      <td>94</td>\n",
       "      <td>4382</td>\n",
       "    </tr>\n",
       "    <tr>\n",
       "      <th>99</th>\n",
       "      <td>100</td>\n",
       "      <td>The Babadook relies on real horror rather than...</td>\n",
       "      <td>72</td>\n",
       "      <td>39109</td>\n",
       "    </tr>\n",
       "  </tbody>\n",
       "</table>\n",
       "</div>"
      ],
      "text/plain": [
       "    Rank                                           Synopsis  Audience_Rating  \\\n",
       "95    96  A career highlight for Preston Sturges, The La...               87   \n",
       "96    97  Drawing on strong performances by Al Pacino an...               97   \n",
       "97    98  As bruised and cynical as the decade that prod...               93   \n",
       "98    99  Won't You Be My Neighbor? takes a fittingly pa...               94   \n",
       "99   100  The Babadook relies on real horror rather than...               72   \n",
       "\n",
       "    Number_of_Audience_Reviews  \n",
       "95                        7550  \n",
       "96                      411450  \n",
       "97                       77907  \n",
       "98                        4382  \n",
       "99                       39109  "
      ]
     },
     "execution_count": 353,
     "metadata": {},
     "output_type": "execute_result"
    }
   ],
   "source": [
    "df_copy.tail()"
   ]
  },
  {
   "cell_type": "markdown",
   "metadata": {},
   "source": [
    "#### Merging the table "
   ]
  },
  {
   "cell_type": "code",
   "execution_count": 355,
   "metadata": {},
   "outputs": [],
   "source": [
    "df_master = df_t_copy.merge(df_copy, how='inner', on='Rank')"
   ]
  },
  {
   "cell_type": "markdown",
   "metadata": {},
   "source": [
    "Rearranging the columns for ease in readability. This step is not required but that's just the OCD me!"
   ]
  },
  {
   "cell_type": "code",
   "execution_count": 356,
   "metadata": {},
   "outputs": [],
   "source": [
    "df_master= df_master[['Rank', 'Movie_Title', 'Year_of_Release', 'Synopsis', 'Critic_Rating', 'Number_of_Critic_Reviews', 'Audience_Rating', 'Number_of_Audience_Reviews']]"
   ]
  },
  {
   "cell_type": "code",
   "execution_count": 357,
   "metadata": {},
   "outputs": [
    {
     "data": {
      "text/html": [
       "<div>\n",
       "<style scoped>\n",
       "    .dataframe tbody tr th:only-of-type {\n",
       "        vertical-align: middle;\n",
       "    }\n",
       "\n",
       "    .dataframe tbody tr th {\n",
       "        vertical-align: top;\n",
       "    }\n",
       "\n",
       "    .dataframe thead th {\n",
       "        text-align: right;\n",
       "    }\n",
       "</style>\n",
       "<table border=\"1\" class=\"dataframe\">\n",
       "  <thead>\n",
       "    <tr style=\"text-align: right;\">\n",
       "      <th></th>\n",
       "      <th>Rank</th>\n",
       "      <th>Movie_Title</th>\n",
       "      <th>Year_of_Release</th>\n",
       "      <th>Synopsis</th>\n",
       "      <th>Critic_Rating</th>\n",
       "      <th>Number_of_Critic_Reviews</th>\n",
       "      <th>Audience_Rating</th>\n",
       "      <th>Number_of_Audience_Reviews</th>\n",
       "    </tr>\n",
       "  </thead>\n",
       "  <tbody>\n",
       "    <tr>\n",
       "      <th>0</th>\n",
       "      <td>1</td>\n",
       "      <td>Black Panther</td>\n",
       "      <td>2018</td>\n",
       "      <td>Black Panther elevates superhero cinema to thr...</td>\n",
       "      <td>96</td>\n",
       "      <td>512</td>\n",
       "      <td>79</td>\n",
       "      <td>88211</td>\n",
       "    </tr>\n",
       "    <tr>\n",
       "      <th>1</th>\n",
       "      <td>2</td>\n",
       "      <td>Avengers: Endgame</td>\n",
       "      <td>2019</td>\n",
       "      <td>Exciting, entertaining, and emotionally impact...</td>\n",
       "      <td>94</td>\n",
       "      <td>528</td>\n",
       "      <td>90</td>\n",
       "      <td>70313</td>\n",
       "    </tr>\n",
       "    <tr>\n",
       "      <th>2</th>\n",
       "      <td>3</td>\n",
       "      <td>Us</td>\n",
       "      <td>2019</td>\n",
       "      <td>With Jordan Peele's second inventive, ambitiou...</td>\n",
       "      <td>93</td>\n",
       "      <td>533</td>\n",
       "      <td>59</td>\n",
       "      <td>13108</td>\n",
       "    </tr>\n",
       "    <tr>\n",
       "      <th>3</th>\n",
       "      <td>4</td>\n",
       "      <td>Toy Story 4</td>\n",
       "      <td>2019</td>\n",
       "      <td>Heartwarming, funny, and beautifully animated,...</td>\n",
       "      <td>97</td>\n",
       "      <td>443</td>\n",
       "      <td>94</td>\n",
       "      <td>53146</td>\n",
       "    </tr>\n",
       "    <tr>\n",
       "      <th>4</th>\n",
       "      <td>5</td>\n",
       "      <td>Lady Bird</td>\n",
       "      <td>2017</td>\n",
       "      <td>Lady Bird delivers fresh insights about the tu...</td>\n",
       "      <td>99</td>\n",
       "      <td>391</td>\n",
       "      <td>79</td>\n",
       "      <td>22595</td>\n",
       "    </tr>\n",
       "    <tr>\n",
       "      <th>...</th>\n",
       "      <td>...</td>\n",
       "      <td>...</td>\n",
       "      <td>...</td>\n",
       "      <td>...</td>\n",
       "      <td>...</td>\n",
       "      <td>...</td>\n",
       "      <td>...</td>\n",
       "      <td>...</td>\n",
       "    </tr>\n",
       "    <tr>\n",
       "      <th>95</th>\n",
       "      <td>96</td>\n",
       "      <td>The Lady Eve</td>\n",
       "      <td>1941</td>\n",
       "      <td>A career highlight for Preston Sturges, The La...</td>\n",
       "      <td>100</td>\n",
       "      <td>47</td>\n",
       "      <td>87</td>\n",
       "      <td>7550</td>\n",
       "    </tr>\n",
       "    <tr>\n",
       "      <th>96</th>\n",
       "      <td>97</td>\n",
       "      <td>The Godfather, Part II</td>\n",
       "      <td>1974</td>\n",
       "      <td>Drawing on strong performances by Al Pacino an...</td>\n",
       "      <td>98</td>\n",
       "      <td>83</td>\n",
       "      <td>97</td>\n",
       "      <td>411450</td>\n",
       "    </tr>\n",
       "    <tr>\n",
       "      <th>97</th>\n",
       "      <td>98</td>\n",
       "      <td>Chinatown</td>\n",
       "      <td>1974</td>\n",
       "      <td>As bruised and cynical as the decade that prod...</td>\n",
       "      <td>99</td>\n",
       "      <td>75</td>\n",
       "      <td>93</td>\n",
       "      <td>77907</td>\n",
       "    </tr>\n",
       "    <tr>\n",
       "      <th>98</th>\n",
       "      <td>99</td>\n",
       "      <td>Won't You Be My Neighbor?</td>\n",
       "      <td>2018</td>\n",
       "      <td>Won't You Be My Neighbor? takes a fittingly pa...</td>\n",
       "      <td>97</td>\n",
       "      <td>249</td>\n",
       "      <td>94</td>\n",
       "      <td>4382</td>\n",
       "    </tr>\n",
       "    <tr>\n",
       "      <th>99</th>\n",
       "      <td>100</td>\n",
       "      <td>The Babadook</td>\n",
       "      <td>2014</td>\n",
       "      <td>The Babadook relies on real horror rather than...</td>\n",
       "      <td>98</td>\n",
       "      <td>238</td>\n",
       "      <td>72</td>\n",
       "      <td>39109</td>\n",
       "    </tr>\n",
       "  </tbody>\n",
       "</table>\n",
       "<p>100 rows × 8 columns</p>\n",
       "</div>"
      ],
      "text/plain": [
       "    Rank                 Movie_Title  Year_of_Release  \\\n",
       "0      1              Black Panther              2018   \n",
       "1      2          Avengers: Endgame              2019   \n",
       "2      3                         Us              2019   \n",
       "3      4                Toy Story 4              2019   \n",
       "4      5                  Lady Bird              2017   \n",
       "..   ...                         ...              ...   \n",
       "95    96               The Lady Eve              1941   \n",
       "96    97     The Godfather, Part II              1974   \n",
       "97    98                  Chinatown              1974   \n",
       "98    99  Won't You Be My Neighbor?              2018   \n",
       "99   100               The Babadook              2014   \n",
       "\n",
       "                                             Synopsis  Critic_Rating  \\\n",
       "0   Black Panther elevates superhero cinema to thr...             96   \n",
       "1   Exciting, entertaining, and emotionally impact...             94   \n",
       "2   With Jordan Peele's second inventive, ambitiou...             93   \n",
       "3   Heartwarming, funny, and beautifully animated,...             97   \n",
       "4   Lady Bird delivers fresh insights about the tu...             99   \n",
       "..                                                ...            ...   \n",
       "95  A career highlight for Preston Sturges, The La...            100   \n",
       "96  Drawing on strong performances by Al Pacino an...             98   \n",
       "97  As bruised and cynical as the decade that prod...             99   \n",
       "98  Won't You Be My Neighbor? takes a fittingly pa...             97   \n",
       "99  The Babadook relies on real horror rather than...             98   \n",
       "\n",
       "    Number_of_Critic_Reviews  Audience_Rating  Number_of_Audience_Reviews  \n",
       "0                        512               79                       88211  \n",
       "1                        528               90                       70313  \n",
       "2                        533               59                       13108  \n",
       "3                        443               94                       53146  \n",
       "4                        391               79                       22595  \n",
       "..                       ...              ...                         ...  \n",
       "95                        47               87                        7550  \n",
       "96                        83               97                      411450  \n",
       "97                        75               93                       77907  \n",
       "98                       249               94                        4382  \n",
       "99                       238               72                       39109  \n",
       "\n",
       "[100 rows x 8 columns]"
      ]
     },
     "execution_count": 357,
     "metadata": {},
     "output_type": "execute_result"
    }
   ],
   "source": [
    "df_master"
   ]
  },
  {
   "cell_type": "code",
   "execution_count": 358,
   "metadata": {},
   "outputs": [],
   "source": [
    "df_master.to_csv('Top 100 Movie Reviews.csv')"
   ]
  }
 ],
 "metadata": {
  "kernelspec": {
   "display_name": "Python 3",
   "language": "python",
   "name": "python3"
  },
  "language_info": {
   "codemirror_mode": {
    "name": "ipython",
    "version": 3
   },
   "file_extension": ".py",
   "mimetype": "text/x-python",
   "name": "python",
   "nbconvert_exporter": "python",
   "pygments_lexer": "ipython3",
   "version": "3.8.3"
  }
 },
 "nbformat": 4,
 "nbformat_minor": 4
}
