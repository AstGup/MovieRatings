{
 "cells": [
  {
   "cell_type": "markdown",
   "metadata": {},
   "source": [
    "## Gather Data "
   ]
  },
  {
   "cell_type": "code",
   "execution_count": 142,
   "metadata": {},
   "outputs": [],
   "source": [
    "import requests\n",
    "from bs4 import BeautifulSoup as bs\n",
    "import pandas as pd\n",
    "import matplotlib.pyplot as plt\n",
    "from selenium import webdriver\n",
    "from selenium.webdriver.common.by import By\n",
    "from selenium.webdriver.support.ui import WebDriverWait \n",
    "from selenium.webdriver.support import expected_conditions as EC "
   ]
  },
  {
   "cell_type": "markdown",
   "metadata": {},
   "source": [
    "**First, we would scrape the top 100 movies of all time from Rotten Tomatoes**"
   ]
  },
  {
   "cell_type": "code",
   "execution_count": 113,
   "metadata": {},
   "outputs": [],
   "source": [
    "URL = \"https://www.rottentomatoes.com/top/bestofrt/\" #URL where the table for the top 100 movies exist\n",
    "page = requests.get(URL) \n",
    "soup = bs(page.content, 'lxml') #Creating the soup\n",
    "movie_elems = soup.find_all(class_='table')\n",
    "headers=[]\n",
    "for header in movie_elems[0].findAll('th'): #Getting the headers of the table\n",
    "    headers.append(header.text)"
   ]
  },
  {
   "cell_type": "code",
   "execution_count": 143,
   "metadata": {},
   "outputs": [],
   "source": [
    "table = movie_elems[0].findAll('tr') #Creating this variable to find the row observations for each movie"
   ]
  },
  {
   "cell_type": "code",
   "execution_count": 116,
   "metadata": {},
   "outputs": [],
   "source": [
    "ranks = []\n",
    "for rows in table[1:]: #Loop through the 'table' to get the rank\n",
    "    for rank in rows.find('td', class_ = 'bold'):\n",
    "        ranks.append(rank)"
   ]
  },
  {
   "cell_type": "code",
   "execution_count": 115,
   "metadata": {},
   "outputs": [],
   "source": [
    "movies = []\n",
    "for rows in table[1:]: #Loop through the 'table' to get the movie names\n",
    "    for movie in rows.find('a'):\n",
    "        movies.append(movie)"
   ]
  },
  {
   "cell_type": "code",
   "execution_count": 117,
   "metadata": {},
   "outputs": [],
   "source": [
    "ratings = []\n",
    "for rows in table[1:]: #Loop through the 'table' to get the critic rating\n",
    "    for rating in rows.find('span', class_='tMeterScore'):\n",
    "        ratings.append(rating)"
   ]
  },
  {
   "cell_type": "code",
   "execution_count": 118,
   "metadata": {},
   "outputs": [],
   "source": [
    "number_reviews = []\n",
    "for rows in table[1:]: #Loop through the 'table' to get the number of critic reviews\n",
    "    for review in rows.find('td', class_='right hidden-xs'):\n",
    "        number_reviews.append(review)"
   ]
  },
  {
   "cell_type": "code",
   "execution_count": 120,
   "metadata": {},
   "outputs": [],
   "source": [
    "movie_reviews = {'rankings': ranks, 'ratings': ratings, 'movies': movies, 'no_of_reviews': number_reviews}"
   ]
  },
  {
   "cell_type": "code",
   "execution_count": 121,
   "metadata": {},
   "outputs": [],
   "source": [
    "df_t = pd.DataFrame(movie_reviews)\n",
    "df_t.columns = headers #Chaning the headers to the one scraped from the website"
   ]
  },
  {
   "cell_type": "markdown",
   "metadata": {},
   "source": [
    "**We would now gather all the data like synopsis, critic rating, number of critic reviews, Audience rating and number of Audience rating for each of the movie in the top 100 list**"
   ]
  },
  {
   "cell_type": "markdown",
   "metadata": {},
   "source": [
    "For this exercise, we would be using Selenium. Selenium is a powerful tool that helps us in automating the web browser. In combination with beautiful soup it becomes one of the most powerful web scraping tools"
   ]
  },
  {
   "cell_type": "code",
   "execution_count": 111,
   "metadata": {},
   "outputs": [],
   "source": [
    "driver = webdriver.Chrome(executable_path='/Users/akshaygupta/Downloads/chromedriver')\n",
    "driver.get(\"https://www.rottentomatoes.com/top/bestofrt/\")\n",
    "driver.implicitly_wait(10)\n",
    "df = pd.DataFrame()\n",
    "for i in range(1,101):\n",
    "    driver.find_element_by_xpath('//*[@id=\"top_movies_main\"]/div/table/tbody/tr['+str(i)+']/td[3]/a').click()\n",
    "    WebDriverWait(driver, 10).until(EC.presence_of_element_located((By.CLASS_NAME,'mop-ratings-wrap__percentage')))\n",
    "    html = driver.page_source\n",
    "    soup = bs(html, 'lxml')\n",
    "    section = soup.find_all(class_='mop-ratings-wrap__info')\n",
    "    review = section[0].find('p').text\n",
    "    score_section = section[0].find_all('div')\n",
    "    critic_rat = score_section[0].find_all('span')[1].text\n",
    "    critic_num = score_section[1].find_all('small')[0].text\n",
    "    audience_rat = score_section[2].find_all('span')[1].text\n",
    "    audience_num = score_section[3].find('strong').text\n",
    "    temp = pd.DataFrame({\n",
    "        'Synopsis': review.strip(),\n",
    "        'Critic Rating': critic_rat.strip(),\n",
    "        'Number of Critic Reviews': critic_num.strip(),\n",
    "        'Audience Rating': audience_rat.strip(),\n",
    "        'Number of Audience Reviews': audience_num.strip()[audience_num.find(':')+2:]\n",
    "    }, index=[i])\n",
    "    df = pd.concat([df, temp])\n",
    "    driver.back()\n",
    "driver.quit()"
   ]
  },
  {
   "cell_type": "code",
   "execution_count": 112,
   "metadata": {},
   "outputs": [
    {
     "data": {
      "text/html": [
       "<div>\n",
       "<style scoped>\n",
       "    .dataframe tbody tr th:only-of-type {\n",
       "        vertical-align: middle;\n",
       "    }\n",
       "\n",
       "    .dataframe tbody tr th {\n",
       "        vertical-align: top;\n",
       "    }\n",
       "\n",
       "    .dataframe thead th {\n",
       "        text-align: right;\n",
       "    }\n",
       "</style>\n",
       "<table border=\"1\" class=\"dataframe\">\n",
       "  <thead>\n",
       "    <tr style=\"text-align: right;\">\n",
       "      <th></th>\n",
       "      <th>Synopsis</th>\n",
       "      <th>Critic Rating</th>\n",
       "      <th>Number of Critic Reviews</th>\n",
       "      <th>Audience Rating</th>\n",
       "      <th>Number of Audience Reviews</th>\n",
       "    </tr>\n",
       "  </thead>\n",
       "  <tbody>\n",
       "    <tr>\n",
       "      <th>1</th>\n",
       "      <td>Black Panther elevates superhero cinema to thr...</td>\n",
       "      <td>96%</td>\n",
       "      <td>512</td>\n",
       "      <td>79%</td>\n",
       "      <td>88,211</td>\n",
       "    </tr>\n",
       "    <tr>\n",
       "      <th>2</th>\n",
       "      <td>Exciting, entertaining, and emotionally impact...</td>\n",
       "      <td>94%</td>\n",
       "      <td>528</td>\n",
       "      <td>90%</td>\n",
       "      <td>70,313</td>\n",
       "    </tr>\n",
       "    <tr>\n",
       "      <th>3</th>\n",
       "      <td>With Jordan Peele's second inventive, ambitiou...</td>\n",
       "      <td>93%</td>\n",
       "      <td>533</td>\n",
       "      <td>59%</td>\n",
       "      <td>13,108</td>\n",
       "    </tr>\n",
       "    <tr>\n",
       "      <th>4</th>\n",
       "      <td>Heartwarming, funny, and beautifully animated,...</td>\n",
       "      <td>97%</td>\n",
       "      <td>443</td>\n",
       "      <td>94%</td>\n",
       "      <td>53,146</td>\n",
       "    </tr>\n",
       "    <tr>\n",
       "      <th>5</th>\n",
       "      <td>Lady Bird delivers fresh insights about the tu...</td>\n",
       "      <td>99%</td>\n",
       "      <td>391</td>\n",
       "      <td>79%</td>\n",
       "      <td>22,595</td>\n",
       "    </tr>\n",
       "    <tr>\n",
       "      <th>...</th>\n",
       "      <td>...</td>\n",
       "      <td>...</td>\n",
       "      <td>...</td>\n",
       "      <td>...</td>\n",
       "      <td>...</td>\n",
       "    </tr>\n",
       "    <tr>\n",
       "      <th>96</th>\n",
       "      <td>A career highlight for Preston Sturges, The La...</td>\n",
       "      <td>100%</td>\n",
       "      <td>47</td>\n",
       "      <td>87%</td>\n",
       "      <td>7,550</td>\n",
       "    </tr>\n",
       "    <tr>\n",
       "      <th>97</th>\n",
       "      <td>Drawing on strong performances by Al Pacino an...</td>\n",
       "      <td>98%</td>\n",
       "      <td>83</td>\n",
       "      <td>97%</td>\n",
       "      <td>411,450</td>\n",
       "    </tr>\n",
       "    <tr>\n",
       "      <th>98</th>\n",
       "      <td>As bruised and cynical as the decade that prod...</td>\n",
       "      <td>99%</td>\n",
       "      <td>75</td>\n",
       "      <td>93%</td>\n",
       "      <td>77,907</td>\n",
       "    </tr>\n",
       "    <tr>\n",
       "      <th>99</th>\n",
       "      <td>Won't You Be My Neighbor? takes a fittingly pa...</td>\n",
       "      <td>97%</td>\n",
       "      <td>249</td>\n",
       "      <td>94%</td>\n",
       "      <td>4,382</td>\n",
       "    </tr>\n",
       "    <tr>\n",
       "      <th>100</th>\n",
       "      <td>The Babadook relies on real horror rather than...</td>\n",
       "      <td>98%</td>\n",
       "      <td>238</td>\n",
       "      <td>72%</td>\n",
       "      <td>39,109</td>\n",
       "    </tr>\n",
       "  </tbody>\n",
       "</table>\n",
       "<p>100 rows × 5 columns</p>\n",
       "</div>"
      ],
      "text/plain": [
       "                                              Synopsis Critic Rating  \\\n",
       "1    Black Panther elevates superhero cinema to thr...           96%   \n",
       "2    Exciting, entertaining, and emotionally impact...           94%   \n",
       "3    With Jordan Peele's second inventive, ambitiou...           93%   \n",
       "4    Heartwarming, funny, and beautifully animated,...           97%   \n",
       "5    Lady Bird delivers fresh insights about the tu...           99%   \n",
       "..                                                 ...           ...   \n",
       "96   A career highlight for Preston Sturges, The La...          100%   \n",
       "97   Drawing on strong performances by Al Pacino an...           98%   \n",
       "98   As bruised and cynical as the decade that prod...           99%   \n",
       "99   Won't You Be My Neighbor? takes a fittingly pa...           97%   \n",
       "100  The Babadook relies on real horror rather than...           98%   \n",
       "\n",
       "    Number of Critic Reviews Audience Rating Number of Audience Reviews  \n",
       "1                        512             79%                     88,211  \n",
       "2                        528             90%                     70,313  \n",
       "3                        533             59%                     13,108  \n",
       "4                        443             94%                     53,146  \n",
       "5                        391             79%                     22,595  \n",
       "..                       ...             ...                        ...  \n",
       "96                        47             87%                      7,550  \n",
       "97                        83             97%                    411,450  \n",
       "98                        75             93%                     77,907  \n",
       "99                       249             94%                      4,382  \n",
       "100                      238             72%                     39,109  \n",
       "\n",
       "[100 rows x 5 columns]"
      ]
     },
     "execution_count": 112,
     "metadata": {},
     "output_type": "execute_result"
    }
   ],
   "source": [
    "df"
   ]
  },
  {
   "cell_type": "code",
   "execution_count": 124,
   "metadata": {},
   "outputs": [
    {
     "data": {
      "text/plain": [
       "100"
      ]
     },
     "execution_count": 124,
     "metadata": {},
     "output_type": "execute_result"
    }
   ],
   "source": [
    "df_t.shape[0]"
   ]
  },
  {
   "cell_type": "code",
   "execution_count": 125,
   "metadata": {},
   "outputs": [
    {
     "data": {
      "text/plain": [
       "100"
      ]
     },
     "execution_count": 125,
     "metadata": {},
     "output_type": "execute_result"
    }
   ],
   "source": [
    "df.shape[0]"
   ]
  },
  {
   "cell_type": "code",
   "execution_count": 127,
   "metadata": {},
   "outputs": [
    {
     "name": "stdout",
     "output_type": "stream",
     "text": [
      "<class 'pandas.core.frame.DataFrame'>\n",
      "RangeIndex: 100 entries, 0 to 99\n",
      "Data columns (total 4 columns):\n",
      " #   Column             Non-Null Count  Dtype \n",
      "---  ------             --------------  ----- \n",
      " 0   Rank               100 non-null    object\n",
      " 1   RatingTomatometer  100 non-null    object\n",
      " 2   Title              100 non-null    object\n",
      " 3   No. of Reviews     100 non-null    object\n",
      "dtypes: object(4)\n",
      "memory usage: 3.2+ KB\n"
     ]
    }
   ],
   "source": [
    "df_t"
   ]
  },
  {
   "cell_type": "code",
   "execution_count": 132,
   "metadata": {},
   "outputs": [
    {
     "data": {
      "text/plain": [
       "Int64Index([  1,   2,   3,   4,   5,   6,   7,   8,   9,  10,  11,  12,  13,\n",
       "             14,  15,  16,  17,  18,  19,  20,  21,  22,  23,  24,  25,  26,\n",
       "             27,  28,  29,  30,  31,  32,  33,  34,  35,  36,  37,  38,  39,\n",
       "             40,  41,  42,  43,  44,  45,  46,  47,  48,  49,  50,  51,  52,\n",
       "             53,  54,  55,  56,  57,  58,  59,  60,  61,  62,  63,  64,  65,\n",
       "             66,  67,  68,  69,  70,  71,  72,  73,  74,  75,  76,  77,  78,\n",
       "             79,  80,  81,  82,  83,  84,  85,  86,  87,  88,  89,  90,  91,\n",
       "             92,  93,  94,  95,  96,  97,  98,  99, 100],\n",
       "           dtype='int64')"
      ]
     },
     "execution_count": 132,
     "metadata": {},
     "output_type": "execute_result"
    }
   ],
   "source": [
    "df.index"
   ]
  },
  {
   "cell_type": "code",
   "execution_count": 138,
   "metadata": {},
   "outputs": [],
   "source": [
    "df.index = df.index.set_names(['Rank'])"
   ]
  },
  {
   "cell_type": "code",
   "execution_count": 139,
   "metadata": {},
   "outputs": [
    {
     "data": {
      "text/html": [
       "<div>\n",
       "<style scoped>\n",
       "    .dataframe tbody tr th:only-of-type {\n",
       "        vertical-align: middle;\n",
       "    }\n",
       "\n",
       "    .dataframe tbody tr th {\n",
       "        vertical-align: top;\n",
       "    }\n",
       "\n",
       "    .dataframe thead th {\n",
       "        text-align: right;\n",
       "    }\n",
       "</style>\n",
       "<table border=\"1\" class=\"dataframe\">\n",
       "  <thead>\n",
       "    <tr style=\"text-align: right;\">\n",
       "      <th></th>\n",
       "      <th>Synopsis</th>\n",
       "      <th>Critic Rating</th>\n",
       "      <th>Number of Critic Reviews</th>\n",
       "      <th>Audience Rating</th>\n",
       "      <th>Number of Audience Reviews</th>\n",
       "    </tr>\n",
       "    <tr>\n",
       "      <th>Rank</th>\n",
       "      <th></th>\n",
       "      <th></th>\n",
       "      <th></th>\n",
       "      <th></th>\n",
       "      <th></th>\n",
       "    </tr>\n",
       "  </thead>\n",
       "  <tbody>\n",
       "    <tr>\n",
       "      <th>1</th>\n",
       "      <td>Black Panther elevates superhero cinema to thr...</td>\n",
       "      <td>96%</td>\n",
       "      <td>512</td>\n",
       "      <td>79%</td>\n",
       "      <td>88,211</td>\n",
       "    </tr>\n",
       "    <tr>\n",
       "      <th>2</th>\n",
       "      <td>Exciting, entertaining, and emotionally impact...</td>\n",
       "      <td>94%</td>\n",
       "      <td>528</td>\n",
       "      <td>90%</td>\n",
       "      <td>70,313</td>\n",
       "    </tr>\n",
       "    <tr>\n",
       "      <th>3</th>\n",
       "      <td>With Jordan Peele's second inventive, ambitiou...</td>\n",
       "      <td>93%</td>\n",
       "      <td>533</td>\n",
       "      <td>59%</td>\n",
       "      <td>13,108</td>\n",
       "    </tr>\n",
       "    <tr>\n",
       "      <th>4</th>\n",
       "      <td>Heartwarming, funny, and beautifully animated,...</td>\n",
       "      <td>97%</td>\n",
       "      <td>443</td>\n",
       "      <td>94%</td>\n",
       "      <td>53,146</td>\n",
       "    </tr>\n",
       "    <tr>\n",
       "      <th>5</th>\n",
       "      <td>Lady Bird delivers fresh insights about the tu...</td>\n",
       "      <td>99%</td>\n",
       "      <td>391</td>\n",
       "      <td>79%</td>\n",
       "      <td>22,595</td>\n",
       "    </tr>\n",
       "    <tr>\n",
       "      <th>...</th>\n",
       "      <td>...</td>\n",
       "      <td>...</td>\n",
       "      <td>...</td>\n",
       "      <td>...</td>\n",
       "      <td>...</td>\n",
       "    </tr>\n",
       "    <tr>\n",
       "      <th>96</th>\n",
       "      <td>A career highlight for Preston Sturges, The La...</td>\n",
       "      <td>100%</td>\n",
       "      <td>47</td>\n",
       "      <td>87%</td>\n",
       "      <td>7,550</td>\n",
       "    </tr>\n",
       "    <tr>\n",
       "      <th>97</th>\n",
       "      <td>Drawing on strong performances by Al Pacino an...</td>\n",
       "      <td>98%</td>\n",
       "      <td>83</td>\n",
       "      <td>97%</td>\n",
       "      <td>411,450</td>\n",
       "    </tr>\n",
       "    <tr>\n",
       "      <th>98</th>\n",
       "      <td>As bruised and cynical as the decade that prod...</td>\n",
       "      <td>99%</td>\n",
       "      <td>75</td>\n",
       "      <td>93%</td>\n",
       "      <td>77,907</td>\n",
       "    </tr>\n",
       "    <tr>\n",
       "      <th>99</th>\n",
       "      <td>Won't You Be My Neighbor? takes a fittingly pa...</td>\n",
       "      <td>97%</td>\n",
       "      <td>249</td>\n",
       "      <td>94%</td>\n",
       "      <td>4,382</td>\n",
       "    </tr>\n",
       "    <tr>\n",
       "      <th>100</th>\n",
       "      <td>The Babadook relies on real horror rather than...</td>\n",
       "      <td>98%</td>\n",
       "      <td>238</td>\n",
       "      <td>72%</td>\n",
       "      <td>39,109</td>\n",
       "    </tr>\n",
       "  </tbody>\n",
       "</table>\n",
       "<p>100 rows × 5 columns</p>\n",
       "</div>"
      ],
      "text/plain": [
       "                                               Synopsis Critic Rating  \\\n",
       "Rank                                                                    \n",
       "1     Black Panther elevates superhero cinema to thr...           96%   \n",
       "2     Exciting, entertaining, and emotionally impact...           94%   \n",
       "3     With Jordan Peele's second inventive, ambitiou...           93%   \n",
       "4     Heartwarming, funny, and beautifully animated,...           97%   \n",
       "5     Lady Bird delivers fresh insights about the tu...           99%   \n",
       "...                                                 ...           ...   \n",
       "96    A career highlight for Preston Sturges, The La...          100%   \n",
       "97    Drawing on strong performances by Al Pacino an...           98%   \n",
       "98    As bruised and cynical as the decade that prod...           99%   \n",
       "99    Won't You Be My Neighbor? takes a fittingly pa...           97%   \n",
       "100   The Babadook relies on real horror rather than...           98%   \n",
       "\n",
       "     Number of Critic Reviews Audience Rating Number of Audience Reviews  \n",
       "Rank                                                                      \n",
       "1                         512             79%                     88,211  \n",
       "2                         528             90%                     70,313  \n",
       "3                         533             59%                     13,108  \n",
       "4                         443             94%                     53,146  \n",
       "5                         391             79%                     22,595  \n",
       "...                       ...             ...                        ...  \n",
       "96                         47             87%                      7,550  \n",
       "97                         83             97%                    411,450  \n",
       "98                         75             93%                     77,907  \n",
       "99                        249             94%                      4,382  \n",
       "100                       238             72%                     39,109  \n",
       "\n",
       "[100 rows x 5 columns]"
      ]
     },
     "execution_count": 139,
     "metadata": {},
     "output_type": "execute_result"
    }
   ],
   "source": [
    "df"
   ]
  },
  {
   "cell_type": "code",
   "execution_count": 141,
   "metadata": {
    "scrolled": true
   },
   "outputs": [
    {
     "ename": "ValueError",
     "evalue": "You are trying to merge on object and int64 columns. If you wish to proceed you should use pd.concat",
     "output_type": "error",
     "traceback": [
      "\u001b[0;31m---------------------------------------------------------------------------\u001b[0m",
      "\u001b[0;31mValueError\u001b[0m                                Traceback (most recent call last)",
      "\u001b[0;32m<ipython-input-141-4cdb68e14220>\u001b[0m in \u001b[0;36m<module>\u001b[0;34m\u001b[0m\n\u001b[0;32m----> 1\u001b[0;31m \u001b[0mdf_t\u001b[0m\u001b[0;34m.\u001b[0m\u001b[0mmerge\u001b[0m\u001b[0;34m(\u001b[0m\u001b[0mdf\u001b[0m\u001b[0;34m,\u001b[0m\u001b[0;34m'inner'\u001b[0m\u001b[0;34m,\u001b[0m \u001b[0mleft_on\u001b[0m \u001b[0;34m=\u001b[0m \u001b[0;34m'Rank'\u001b[0m\u001b[0;34m,\u001b[0m \u001b[0mright_on\u001b[0m\u001b[0;34m=\u001b[0m\u001b[0;34m'Rank'\u001b[0m\u001b[0;34m)\u001b[0m\u001b[0;34m\u001b[0m\u001b[0;34m\u001b[0m\u001b[0m\n\u001b[0m",
      "\u001b[0;32m~/opt/anaconda3/lib/python3.8/site-packages/pandas/core/frame.py\u001b[0m in \u001b[0;36mmerge\u001b[0;34m(self, right, how, on, left_on, right_on, left_index, right_index, sort, suffixes, copy, indicator, validate)\u001b[0m\n\u001b[1;32m   7282\u001b[0m         \u001b[0;32mfrom\u001b[0m \u001b[0mpandas\u001b[0m\u001b[0;34m.\u001b[0m\u001b[0mcore\u001b[0m\u001b[0;34m.\u001b[0m\u001b[0mreshape\u001b[0m\u001b[0;34m.\u001b[0m\u001b[0mmerge\u001b[0m \u001b[0;32mimport\u001b[0m \u001b[0mmerge\u001b[0m\u001b[0;34m\u001b[0m\u001b[0;34m\u001b[0m\u001b[0m\n\u001b[1;32m   7283\u001b[0m \u001b[0;34m\u001b[0m\u001b[0m\n\u001b[0;32m-> 7284\u001b[0;31m         return merge(\n\u001b[0m\u001b[1;32m   7285\u001b[0m             \u001b[0mself\u001b[0m\u001b[0;34m,\u001b[0m\u001b[0;34m\u001b[0m\u001b[0;34m\u001b[0m\u001b[0m\n\u001b[1;32m   7286\u001b[0m             \u001b[0mright\u001b[0m\u001b[0;34m,\u001b[0m\u001b[0;34m\u001b[0m\u001b[0;34m\u001b[0m\u001b[0m\n",
      "\u001b[0;32m~/opt/anaconda3/lib/python3.8/site-packages/pandas/core/reshape/merge.py\u001b[0m in \u001b[0;36mmerge\u001b[0;34m(left, right, how, on, left_on, right_on, left_index, right_index, sort, suffixes, copy, indicator, validate)\u001b[0m\n\u001b[1;32m     71\u001b[0m     \u001b[0mvalidate\u001b[0m\u001b[0;34m=\u001b[0m\u001b[0;32mNone\u001b[0m\u001b[0;34m,\u001b[0m\u001b[0;34m\u001b[0m\u001b[0;34m\u001b[0m\u001b[0m\n\u001b[1;32m     72\u001b[0m ) -> \"DataFrame\":\n\u001b[0;32m---> 73\u001b[0;31m     op = _MergeOperation(\n\u001b[0m\u001b[1;32m     74\u001b[0m         \u001b[0mleft\u001b[0m\u001b[0;34m,\u001b[0m\u001b[0;34m\u001b[0m\u001b[0;34m\u001b[0m\u001b[0m\n\u001b[1;32m     75\u001b[0m         \u001b[0mright\u001b[0m\u001b[0;34m,\u001b[0m\u001b[0;34m\u001b[0m\u001b[0;34m\u001b[0m\u001b[0m\n",
      "\u001b[0;32m~/opt/anaconda3/lib/python3.8/site-packages/pandas/core/reshape/merge.py\u001b[0m in \u001b[0;36m__init__\u001b[0;34m(self, left, right, how, on, left_on, right_on, axis, left_index, right_index, sort, suffixes, copy, indicator, validate)\u001b[0m\n\u001b[1;32m    629\u001b[0m         \u001b[0;31m# validate the merge keys dtypes. We may need to coerce\u001b[0m\u001b[0;34m\u001b[0m\u001b[0;34m\u001b[0m\u001b[0;34m\u001b[0m\u001b[0m\n\u001b[1;32m    630\u001b[0m         \u001b[0;31m# to avoid incompat dtypes\u001b[0m\u001b[0;34m\u001b[0m\u001b[0;34m\u001b[0m\u001b[0;34m\u001b[0m\u001b[0m\n\u001b[0;32m--> 631\u001b[0;31m         \u001b[0mself\u001b[0m\u001b[0;34m.\u001b[0m\u001b[0m_maybe_coerce_merge_keys\u001b[0m\u001b[0;34m(\u001b[0m\u001b[0;34m)\u001b[0m\u001b[0;34m\u001b[0m\u001b[0;34m\u001b[0m\u001b[0m\n\u001b[0m\u001b[1;32m    632\u001b[0m \u001b[0;34m\u001b[0m\u001b[0m\n\u001b[1;32m    633\u001b[0m         \u001b[0;31m# If argument passed to validate,\u001b[0m\u001b[0;34m\u001b[0m\u001b[0;34m\u001b[0m\u001b[0;34m\u001b[0m\u001b[0m\n",
      "\u001b[0;32m~/opt/anaconda3/lib/python3.8/site-packages/pandas/core/reshape/merge.py\u001b[0m in \u001b[0;36m_maybe_coerce_merge_keys\u001b[0;34m(self)\u001b[0m\n\u001b[1;32m   1144\u001b[0m                     \u001b[0minferred_right\u001b[0m \u001b[0;32min\u001b[0m \u001b[0mstring_types\u001b[0m \u001b[0;32mand\u001b[0m \u001b[0minferred_left\u001b[0m \u001b[0;32mnot\u001b[0m \u001b[0;32min\u001b[0m \u001b[0mstring_types\u001b[0m\u001b[0;34m\u001b[0m\u001b[0;34m\u001b[0m\u001b[0m\n\u001b[1;32m   1145\u001b[0m                 ):\n\u001b[0;32m-> 1146\u001b[0;31m                     \u001b[0;32mraise\u001b[0m \u001b[0mValueError\u001b[0m\u001b[0;34m(\u001b[0m\u001b[0mmsg\u001b[0m\u001b[0;34m)\u001b[0m\u001b[0;34m\u001b[0m\u001b[0;34m\u001b[0m\u001b[0m\n\u001b[0m\u001b[1;32m   1147\u001b[0m \u001b[0;34m\u001b[0m\u001b[0m\n\u001b[1;32m   1148\u001b[0m             \u001b[0;31m# datetimelikes must match exactly\u001b[0m\u001b[0;34m\u001b[0m\u001b[0;34m\u001b[0m\u001b[0;34m\u001b[0m\u001b[0m\n",
      "\u001b[0;31mValueError\u001b[0m: You are trying to merge on object and int64 columns. If you wish to proceed you should use pd.concat"
     ]
    }
   ],
   "source": [
    "df_t.merge(df,'inner', left_on = 'Rank', right_on='Rank')"
   ]
  },
  {
   "cell_type": "code",
   "execution_count": null,
   "metadata": {},
   "outputs": [],
   "source": []
  }
 ],
 "metadata": {
  "kernelspec": {
   "display_name": "Python 3",
   "language": "python",
   "name": "python3"
  },
  "language_info": {
   "codemirror_mode": {
    "name": "ipython",
    "version": 3
   },
   "file_extension": ".py",
   "mimetype": "text/x-python",
   "name": "python",
   "nbconvert_exporter": "python",
   "pygments_lexer": "ipython3",
   "version": "3.8.3"
  }
 },
 "nbformat": 4,
 "nbformat_minor": 4
}
